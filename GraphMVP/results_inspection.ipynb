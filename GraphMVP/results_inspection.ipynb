{
 "cells": [
  {
   "cell_type": "code",
   "execution_count": 2,
   "metadata": {},
   "outputs": [],
   "source": [
    "import sys\n",
    "import os\n",
    "\n",
    "import numpy as np"
   ]
  },
  {
   "cell_type": "code",
   "execution_count": 20,
   "metadata": {},
   "outputs": [
    {
     "name": "stdout",
     "output_type": "stream",
     "text": [
      "\n",
      "Model Performance Metrics:\n",
      "------------------------------\n",
      "Root Mean Squared Error (RMSE): 0.7528\n",
      "Mean Absolute Error (MAE):      0.5805\n",
      "------------------------------\n",
      "\n"
     ]
    }
   ],
   "source": [
    "path = \"/home/rasmus.thrane/Thesis/GraphMVP/results/lipo_seed2/evaluation_best.pth.npz\"\n",
    "A = np.load(path)\n",
    "test_targets = A[\"test_target\"]\n",
    "test_preds = A[\"test_pred\"]\n",
    "\n",
    "rmse = np.sqrt(np.mean((test_targets - test_preds)**2))\n",
    "mae = np.mean(np.abs(test_targets - test_preds))\n",
    "\n",
    "print(f\"\\nModel Performance Metrics:\")\n",
    "print(f\"{'-'*30}\")\n",
    "print(f\"Root Mean Squared Error (RMSE): {rmse:.4f}\")\n",
    "print(f\"Mean Absolute Error (MAE):      {mae:.4f}\")\n",
    "print(f\"{'-'*30}\\n\")"
   ]
  }
 ],
 "metadata": {
  "kernelspec": {
   "display_name": "base",
   "language": "python",
   "name": "python3"
  },
  "language_info": {
   "codemirror_mode": {
    "name": "ipython",
    "version": 3
   },
   "file_extension": ".py",
   "mimetype": "text/x-python",
   "name": "python",
   "nbconvert_exporter": "python",
   "pygments_lexer": "ipython3",
   "version": "3.11.7"
  }
 },
 "nbformat": 4,
 "nbformat_minor": 2
}
