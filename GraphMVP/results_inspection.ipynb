{
 "cells": [
  {
   "cell_type": "code",
   "execution_count": 2,
   "metadata": {},
   "outputs": [],
   "source": [
    "import sys\n",
    "import os\n",
    "\n",
    "import numpy as np"
   ]
  },
  {
   "cell_type": "markdown",
   "metadata": {},
   "source": [
    "# How to load the evaluation file"
   ]
  },
  {
   "cell_type": "code",
   "execution_count": 20,
   "metadata": {},
   "outputs": [
    {
     "name": "stdout",
     "output_type": "stream",
     "text": [
      "\n",
      "Model Performance Metrics:\n",
      "------------------------------\n",
      "Root Mean Squared Error (RMSE): 0.7528\n",
      "Mean Absolute Error (MAE):      0.5805\n",
      "------------------------------\n",
      "\n"
     ]
    }
   ],
   "source": [
    "path = \"/home/rasmus.thrane/Thesis/GraphMVP/results/lipo_seed2/evaluation_best.pth.npz\"\n",
    "A = np.load(path)\n",
    "test_targets = A[\"test_target\"]\n",
    "test_preds = A[\"test_pred\"]\n",
    "\n",
    "rmse = np.sqrt(np.mean((test_targets - test_preds)**2))\n",
    "mae = np.mean(np.abs(test_targets - test_preds))\n",
    "\n",
    "print(f\"\\nModel Performance Metrics:\")\n",
    "print(f\"{'-'*30}\")\n",
    "print(f\"Root Mean Squared Error (RMSE): {rmse:.4f}\")\n",
    "print(f\"Mean Absolute Error (MAE):      {mae:.4f}\")\n",
    "print(f\"{'-'*30}\\n\")"
   ]
  },
  {
   "cell_type": "markdown",
   "metadata": {},
   "source": [
    "# Evaluation on same dataset using multiple seeds"
   ]
  },
  {
   "cell_type": "code",
   "execution_count": 30,
   "metadata": {},
   "outputs": [
    {
     "name": "stdout",
     "output_type": "stream",
     "text": [
      "\n",
      "===== Dataset Metrics =====\n",
      "\n",
      "Run: lipo_seed2\n",
      "  - RMSE: 0.753\n",
      "  - MAE: 0.580\n",
      "\n",
      "Run: lipo_seed3\n",
      "  - RMSE: 0.763\n",
      "  - MAE: 0.599\n",
      "\n",
      "Run: lipo_seed4\n",
      "  - RMSE: 0.748\n",
      "  - MAE: 0.582\n",
      "\n",
      "===== Overall Metrics =====\n",
      "Average RMSE: 0.755\n",
      "Standard Deviation (RMSE): 0.006\n",
      "\n",
      "Average MAE: 0.587\n",
      "Standard Deviation (MAE): 0.009\n"
     ]
    }
   ],
   "source": [
    "runs = [\"lipo_seed2\", \"lipo_seed3\", \"lipo_seed4\"]\n",
    "\n",
    "RMSE_list = []\n",
    "MAE_list = []\n",
    "\n",
    "print(\"\\n===== Dataset Metrics =====\")\n",
    "for run in runs:\n",
    "    eval_path = f\"results/{run}/evaluation_best.pth.npz\"\n",
    "    evaluation = np.load(eval_path)\n",
    "\n",
    "    test_targets = evaluation[\"test_target\"]\n",
    "    test_preds = evaluation[\"test_pred\"]\n",
    "\n",
    "    rmse = np.sqrt(np.mean((test_targets - test_preds)**2))\n",
    "    mae = np.mean(np.abs(test_targets - test_preds))\n",
    "\n",
    "    print(f\"\\nRun: {run}\")\n",
    "    print(f\"  - RMSE: {rmse:.3f}\")\n",
    "    print(f\"  - MAE: {mae:.3f}\")\n",
    "\n",
    "    RMSE_list.append(rmse)\n",
    "    MAE_list.append(mae)\n",
    "\n",
    "print(\"\\n===== Overall Metrics =====\")\n",
    "print(f\"Average RMSE: {np.mean(RMSE_list):.3f}\")\n",
    "print(f\"Standard Deviation (RMSE): {np.std(RMSE_list):.3f}\\n\")\n",
    "    \n",
    "print(f\"Average MAE: {np.mean(MAE_list):.3f}\")\n",
    "print(f\"Standard Deviation (MAE): {np.std(MAE_list):.3f}\")"
   ]
  }
 ],
 "metadata": {
  "kernelspec": {
   "display_name": "base",
   "language": "python",
   "name": "python3"
  },
  "language_info": {
   "codemirror_mode": {
    "name": "ipython",
    "version": 3
   },
   "file_extension": ".py",
   "mimetype": "text/x-python",
   "name": "python",
   "nbconvert_exporter": "python",
   "pygments_lexer": "ipython3",
   "version": "3.11.7"
  }
 },
 "nbformat": 4,
 "nbformat_minor": 2
}
